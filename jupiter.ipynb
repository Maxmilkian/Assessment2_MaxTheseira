{
 "cells": [
  {
   "cell_type": "markdown",
   "id": "6988355f",
   "metadata": {},
   "source": [
    "# Task 1"
   ]
  },
  {
   "cell_type": "code",
   "execution_count": 23,
   "id": "4c593b86",
   "metadata": {},
   "outputs": [],
   "source": [
    "import pandas as pd\n",
    "import numpy as np\n",
    "import sqlite3 as sql"
   ]
  },
  {
   "cell_type": "code",
   "execution_count": 24,
   "id": "6a8c3ad0",
   "metadata": {},
   "outputs": [],
   "source": [
    "# Creates connection to database file\n",
    "# database = \"jupiter.db\"\n",
    "# connection = sql.connect(database)"
   ]
  },
  {
   "cell_type": "code",
   "execution_count": 25,
   "id": "835fc5f6",
   "metadata": {},
   "outputs": [],
   "source": [
    "# df = pd.read_sql_query(query, connection)\n",
    "# df.head()"
   ]
  },
  {
   "cell_type": "code",
   "execution_count": 26,
   "id": "6982ba5a",
   "metadata": {},
   "outputs": [],
   "source": [
    "class Moons:\n",
    "    def __init__(self, database = 'jupiter.db', connection = sql.connect(database)):\n",
    "        self.database = database\n",
    "        self.connection = connection\n",
    "        self.df = pd.read_sql_query('SELECT * FROM moons', self.connection)\n",
    "        \n",
    "    def summary_statistics(self):\n",
    "        return self.df.describe()\n",
    "    \n",
    "    def correlation(self):\n",
    "        return self.df.corr()\n",
    "    \n",
    "    def extract_moon_data(self, moon_name):\n",
    "        moon_data = self.df[self.df['moon'] == moon_name]\n",
    "        return moon_data\n",
    "    \n",
    "#     def plots(self):\n",
    "        "
   ]
  },
  {
   "cell_type": "code",
   "execution_count": 27,
   "id": "c7e53809",
   "metadata": {},
   "outputs": [
    {
     "data": {
      "text/html": [
       "<div>\n",
       "<style scoped>\n",
       "    .dataframe tbody tr th:only-of-type {\n",
       "        vertical-align: middle;\n",
       "    }\n",
       "\n",
       "    .dataframe tbody tr th {\n",
       "        vertical-align: top;\n",
       "    }\n",
       "\n",
       "    .dataframe thead th {\n",
       "        text-align: right;\n",
       "    }\n",
       "</style>\n",
       "<table border=\"1\" class=\"dataframe\">\n",
       "  <thead>\n",
       "    <tr style=\"text-align: right;\">\n",
       "      <th></th>\n",
       "      <th>moon</th>\n",
       "      <th>period_days</th>\n",
       "      <th>distance_km</th>\n",
       "      <th>radius_km</th>\n",
       "      <th>mag</th>\n",
       "      <th>mass_kg</th>\n",
       "      <th>group</th>\n",
       "      <th>ecc</th>\n",
       "      <th>inclination_deg</th>\n",
       "    </tr>\n",
       "  </thead>\n",
       "  <tbody>\n",
       "    <tr>\n",
       "      <th>0</th>\n",
       "      <td>Adrastea</td>\n",
       "      <td>0.298</td>\n",
       "      <td>129000.0</td>\n",
       "      <td>8.2</td>\n",
       "      <td>NaN</td>\n",
       "      <td>NaN</td>\n",
       "      <td>Inner</td>\n",
       "      <td>0.001500</td>\n",
       "      <td>0.03</td>\n",
       "    </tr>\n",
       "    <tr>\n",
       "      <th>1</th>\n",
       "      <td>Aitne</td>\n",
       "      <td>730.000</td>\n",
       "      <td>23231000.0</td>\n",
       "      <td>1.5</td>\n",
       "      <td>22.7</td>\n",
       "      <td>NaN</td>\n",
       "      <td>Carme</td>\n",
       "      <td>0.264000</td>\n",
       "      <td>165.00</td>\n",
       "    </tr>\n",
       "    <tr>\n",
       "      <th>2</th>\n",
       "      <td>Amalthea</td>\n",
       "      <td>0.498</td>\n",
       "      <td>181400.0</td>\n",
       "      <td>83.5</td>\n",
       "      <td>14.1</td>\n",
       "      <td>2.080000e+18</td>\n",
       "      <td>Inner</td>\n",
       "      <td>0.003190</td>\n",
       "      <td>0.37</td>\n",
       "    </tr>\n",
       "    <tr>\n",
       "      <th>3</th>\n",
       "      <td>Ananke</td>\n",
       "      <td>630.000</td>\n",
       "      <td>21300000.0</td>\n",
       "      <td>14.0</td>\n",
       "      <td>18.9</td>\n",
       "      <td>NaN</td>\n",
       "      <td>Ananke</td>\n",
       "      <td>0.174725</td>\n",
       "      <td>148.60</td>\n",
       "    </tr>\n",
       "    <tr>\n",
       "      <th>4</th>\n",
       "      <td>Aoede</td>\n",
       "      <td>761.000</td>\n",
       "      <td>24000000.0</td>\n",
       "      <td>2.0</td>\n",
       "      <td>22.5</td>\n",
       "      <td>NaN</td>\n",
       "      <td>Pasiphae</td>\n",
       "      <td>0.432000</td>\n",
       "      <td>158.00</td>\n",
       "    </tr>\n",
       "  </tbody>\n",
       "</table>\n",
       "</div>"
      ],
      "text/plain": [
       "       moon  period_days  distance_km  radius_km   mag       mass_kg  \\\n",
       "0  Adrastea        0.298     129000.0        8.2   NaN           NaN   \n",
       "1     Aitne      730.000   23231000.0        1.5  22.7           NaN   \n",
       "2  Amalthea        0.498     181400.0       83.5  14.1  2.080000e+18   \n",
       "3    Ananke      630.000   21300000.0       14.0  18.9           NaN   \n",
       "4     Aoede      761.000   24000000.0        2.0  22.5           NaN   \n",
       "\n",
       "      group       ecc  inclination_deg  \n",
       "0     Inner  0.001500             0.03  \n",
       "1     Carme  0.264000           165.00  \n",
       "2     Inner  0.003190             0.37  \n",
       "3    Ananke  0.174725           148.60  \n",
       "4  Pasiphae  0.432000           158.00  "
      ]
     },
     "execution_count": 27,
     "metadata": {},
     "output_type": "execute_result"
    }
   ],
   "source": [
    "moons_instance = Moons()\n",
    "moons_instance.df.head()"
   ]
  },
  {
   "cell_type": "code",
   "execution_count": 50,
   "id": "707b1867",
   "metadata": {},
   "outputs": [
    {
     "name": "stdout",
     "output_type": "stream",
     "text": [
      "       period_days   distance_km    radius_km        mag       mass_kg  \\\n",
      "count    56.000000  5.600000e+01    56.000000  53.000000  6.000000e+00   \n",
      "mean    525.998146  1.775655e+07   158.969643  20.418302  6.551798e+22   \n",
      "std     272.670243  8.253688e+06   557.730632   4.926587  6.010469e+22   \n",
      "min       0.290000  1.280000e+05     1.000000   4.610000  2.080000e+18   \n",
      "25%     258.750000  1.170252e+07     1.500000  20.800000  1.200276e+22   \n",
      "50%     632.500000  2.129009e+07     2.000000  22.500000  6.865891e+22   \n",
      "75%     725.500000  2.336375e+07    11.562500  23.000000  1.030252e+23   \n",
      "max     787.000000  2.458309e+07  2634.100000  23.700000  1.481900e+23   \n",
      "\n",
      "             ecc  inclination_deg  \n",
      "count  56.000000        56.000000  \n",
      "mean    0.222922       113.571607  \n",
      "std     0.126899        64.562822  \n",
      "min     0.000200         0.030000  \n",
      "25%     0.159201        30.582500  \n",
      "50%     0.228000       148.600000  \n",
      "75%     0.298858       159.175000  \n",
      "max     0.611016       166.200000  \n"
     ]
    }
   ],
   "source": [
    "\n",
    "summary_stats = moons_instance.summary_statistics()\n",
    "print(summary_stats)"
   ]
  },
  {
   "cell_type": "code",
   "execution_count": 51,
   "id": "ce649bb1",
   "metadata": {},
   "outputs": [
    {
     "name": "stdout",
     "output_type": "stream",
     "text": [
      "                 period_days  distance_km  radius_km       mag   mass_kg  \\\n",
      "period_days         1.000000     0.991521  -0.534434  0.742646 -0.504430   \n",
      "distance_km         0.991521     1.000000  -0.567266  0.799187 -0.453339   \n",
      "radius_km          -0.534434    -0.567266   1.000000 -0.887393  0.968379   \n",
      "mag                 0.742646     0.799187  -0.887393  1.000000 -0.861359   \n",
      "mass_kg            -0.504430    -0.453339   0.968379 -0.861359  1.000000   \n",
      "ecc                 0.737181     0.750819  -0.478901  0.554617 -0.543138   \n",
      "inclination_deg     0.969493     0.953873  -0.487645  0.688529 -0.489378   \n",
      "\n",
      "                      ecc  inclination_deg  \n",
      "period_days      0.737181         0.969493  \n",
      "distance_km      0.750819         0.953873  \n",
      "radius_km       -0.478901        -0.487645  \n",
      "mag              0.554617         0.688529  \n",
      "mass_kg         -0.543138        -0.489378  \n",
      "ecc              1.000000         0.645961  \n",
      "inclination_deg  0.645961         1.000000  \n"
     ]
    },
    {
     "name": "stderr",
     "output_type": "stream",
     "text": [
      "/tmp/ipykernel_139/1249176142.py:11: FutureWarning: The default value of numeric_only in DataFrame.corr is deprecated. In a future version, it will default to False. Select only valid columns or specify the value of numeric_only to silence this warning.\n",
      "  return self.df.corr()\n"
     ]
    }
   ],
   "source": [
    "correlation_matrix = moons_instance.correlation()\n",
    "print(correlation_matrix)"
   ]
  },
  {
   "cell_type": "code",
   "execution_count": 54,
   "id": "5ad10349",
   "metadata": {},
   "outputs": [
    {
     "name": "stdout",
     "output_type": "stream",
     "text": [
      "    moon  period_days  distance_km  radius_km   mag  mass_kg  group    ecc  \\\n",
      "1  Aitne        730.0   23231000.0        1.5  22.7      NaN  Carme  0.264   \n",
      "\n",
      "   inclination_deg  \n",
      "1            165.0  \n"
     ]
    }
   ],
   "source": [
    "moon_data = moons_instance.extract_moon_data('Aitne')\n",
    "print(moon_data)"
   ]
  },
  {
   "cell_type": "code",
   "execution_count": null,
   "id": "9869644a",
   "metadata": {},
   "outputs": [],
   "source": []
  }
 ],
 "metadata": {
  "kernelspec": {
   "display_name": "Python 3 (ipykernel)",
   "language": "python",
   "name": "python3"
  },
  "language_info": {
   "codemirror_mode": {
    "name": "ipython",
    "version": 3
   },
   "file_extension": ".py",
   "mimetype": "text/x-python",
   "name": "python",
   "nbconvert_exporter": "python",
   "pygments_lexer": "ipython3",
   "version": "3.9.13"
  }
 },
 "nbformat": 4,
 "nbformat_minor": 5
}
